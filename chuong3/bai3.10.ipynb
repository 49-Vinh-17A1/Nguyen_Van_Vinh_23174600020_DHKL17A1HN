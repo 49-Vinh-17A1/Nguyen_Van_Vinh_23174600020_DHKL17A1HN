{
 "cells": [
  {
   "cell_type": "code",
   "execution_count": null,
   "metadata": {},
   "outputs": [],
   "source": [
    "import pandas as pd \n",
    "import numpy as np "
   ]
  },
  {
   "cell_type": "code",
   "execution_count": null,
   "metadata": {},
   "outputs": [
    {
     "data": {
      "text/plain": [
       "     Unnamed: 0      country  ...  total_litres_of_pure_alcohol  continent\n",
       "0             0  Afghanistan  ...                           0.0         AS\n",
       "1             1      Albania  ...                           4.9         EU\n",
       "2             2      Algeria  ...                           0.7         AF\n",
       "3             3      Andorra  ...                          12.4         EU\n",
       "4             4       Angola  ...                           5.9         AF\n",
       "..          ...          ...  ...                           ...        ...\n",
       "188         188    Venezuela  ...                           7.7         SA\n",
       "189         189      Vietnam  ...                           2.0         AS\n",
       "190         190        Yemen  ...                           0.1         AS\n",
       "191         191       Zambia  ...                           2.5         AF\n",
       "192         192     Zimbabwe  ...                           4.7         AF\n",
       "\n",
       "[193 rows x 7 columns]\n"
      ]
     },
     "metadata": {},
     "output_type": "display_data"
    }
   ],
   "source": [
    "drink = pd.read_csv('chuong3\\drinks.csv')\n",
    "drink"
   ]
  },
  {
   "cell_type": "code",
   "execution_count": null,
   "metadata": {},
   "outputs": [
    {
     "data": {
      "text/plain": [
       "Unnamed: 0                        int64\n",
       "country                          object\n",
       "beer_servings                     int64\n",
       "spirit_servings                   int64\n",
       "wine_servings                     int64\n",
       "total_litres_of_pure_alcohol    float64\n",
       "continent                        object\n",
       "dtype: object\n"
      ]
     },
     "metadata": {},
     "output_type": "display_data"
    }
   ],
   "source": [
    "drink.dtypes"
   ]
  },
  {
   "cell_type": "code",
   "execution_count": null,
   "metadata": {},
   "outputs": [
    {
     "data": {
      "text/plain": [
       "(193, 7)\n"
      ]
     },
     "metadata": {},
     "output_type": "display_data"
    }
   ],
   "source": [
    "drink.shape"
   ]
  },
  {
   "cell_type": "code",
   "execution_count": null,
   "metadata": {},
   "outputs": [
    {
     "data": {
      "text/plain": [
       "['Unnamed: 0', 'country', 'beer_servings', 'spirit_servings', 'wine_servings', 'total_litres_of_pure_alcohol', 'continent']\n"
      ]
     },
     "metadata": {},
     "output_type": "display_data"
    }
   ],
   "source": [
    "list(drink.columns)"
   ]
  },
  {
   "cell_type": "code",
   "execution_count": null,
   "metadata": {},
   "outputs": [
    {
     "data": {
      "text/plain": [
       "   Unnamed: 0      country  ...  total_litres_of_pure_alcohol  continent\n",
       "0           0  Afghanistan  ...                           0.0         AS\n",
       "1           1      Albania  ...                           4.9         EU\n",
       "2           2      Algeria  ...                           0.7         AF\n",
       "3           3      Andorra  ...                          12.4         EU\n",
       "4           4       Angola  ...                           5.9         AF\n",
       "\n",
       "[5 rows x 7 columns]\n"
      ]
     },
     "metadata": {},
     "output_type": "display_data"
    }
   ],
   "source": [
    "drink.head()"
   ]
  },
  {
   "cell_type": "code",
   "execution_count": null,
   "metadata": {},
   "outputs": [
    {
     "data": {
      "text/plain": [
       "     Unnamed: 0    country  ...  total_litres_of_pure_alcohol  continent\n",
       "188         188  Venezuela  ...                           7.7         SA\n",
       "189         189    Vietnam  ...                           2.0         AS\n",
       "190         190      Yemen  ...                           0.1         AS\n",
       "191         191     Zambia  ...                           2.5         AF\n",
       "192         192   Zimbabwe  ...                           4.7         AF\n",
       "\n",
       "[5 rows x 7 columns]\n"
      ]
     },
     "metadata": {},
     "output_type": "display_data"
    }
   ],
   "source": [
    "drink.tail()"
   ]
  },
  {
   "cell_type": "code",
   "execution_count": null,
   "metadata": {},
   "outputs": [
    {
     "data": {
      "text/plain": [
       "106.16062176165804\n"
      ]
     },
     "metadata": {},
     "output_type": "display_data"
    }
   ],
   "source": [
    "# trung bình lượng bia tiêu thụ \n",
    "np.mean(drink['beer_servings'])"
   ]
  },
  {
   "cell_type": "code",
   "execution_count": null,
   "metadata": {},
   "outputs": [
    {
     "data": {
      "text/plain": [
       "count    193.000000\n",
       "mean      49.450777\n",
       "std       79.697598\n",
       "min        0.000000\n",
       "25%        1.000000\n",
       "50%        8.000000\n",
       "75%       59.000000\n",
       "max      370.000000\n",
       "Name: wine_servings, dtype: float64\n"
      ]
     },
     "metadata": {},
     "output_type": "display_data"
    }
   ],
   "source": [
    "# số lượng rượu vang tiêu thụ ở mỗi châu lục\n",
    "drink['wine_servings'].describe()"
   ]
  },
  {
   "cell_type": "code",
   "execution_count": null,
   "metadata": {},
   "outputs": [
    {
     "data": {
      "text/plain": [
       "sá»‘ lÆ°á»£ng cÃ¡c loáº¡i bia rÆ°á»£u tiÃªu thá»¥ trung bÃ¬nh(mean) á»Ÿ má»—i chÃ¢u lá»¥c: \n",
       "beer_servings    106.160622\n",
       "wine_servings     49.450777\n",
       "dtype: float64\n"
      ]
     },
     "metadata": {},
     "output_type": "display_data"
    }
   ],
   "source": [
    "#4\n",
    "print('số lượng các loại bia rượu tiêu thụ trung bình(mean) ở mỗi châu lục: ')\n",
    "print(drink[['beer_servings','wine_servings']].mean())"
   ]
  },
  {
   "cell_type": "code",
   "execution_count": null,
   "metadata": {},
   "outputs": [
    {
     "data": {
      "text/plain": [
       "gia tri trung vi cho cac loai bia la:  76.0\n",
       "gia tri trung vi cho cac loai ruou la:  8.0\n"
      ]
     },
     "metadata": {},
     "output_type": "display_data"
    }
   ],
   "source": [
    "#5\n",
    "print(\"gia tri trung vi cho cac loai bia la: \",drink['beer_servings'].median())\n",
    "print(\"gia tri trung vi cho cac loai ruou la: \",drink['wine_servings'].median())"
   ]
  },
  {
   "cell_type": "code",
   "execution_count": null,
   "metadata": {},
   "outputs": [
    {
     "data": {
      "text/plain": [
       "so luong ruou manh tieu thu trung binh:  56.0\n",
       "so luong ruou manh tieu thu lon nhat:  438\n",
       "so luong ruou manh tieu thu nho nhat:  0\n"
      ]
     },
     "metadata": {},
     "output_type": "display_data"
    }
   ],
   "source": [
    "#6\n",
    "print(\"so luong ruou manh tieu thu trung binh: \",drink['spirit_servings'].median())\n",
    "print(\"so luong ruou manh tieu thu lon nhat: \",drink['spirit_servings'].max())\n",
    "print(\"so luong ruou manh tieu thu nho nhat: \",drink['spirit_servings'].min())"
   ]
  },
  {
   "cell_type": "code",
   "execution_count": null,
   "metadata": {},
   "outputs": [
    {
     "data": {
      "text/plain": [
       "5 quoc gia tieu thu bia nhieu nhat: \n",
       "             country  beer_servings\n",
       "117         Namibia            376\n",
       "45   Czech Republic            361\n",
       "62            Gabon            347\n",
       "65          Germany            346\n",
       "98        Lithuania            343\n"
      ]
     },
     "metadata": {},
     "output_type": "display_data"
    }
   ],
   "source": [
    "arrange = drink.sort_values('beer_servings')[::-1]\n",
    "print(\"5 quoc gia tieu thu bia nhieu nhat: \\n\",arrange[[\"country\",\"beer_servings\"]].head())"
   ]
  },
  {
   "cell_type": "code",
   "execution_count": null,
   "metadata": {},
   "outputs": [
    {
     "data": {
      "text/plain": [
       "5 quoc gia tieu thu bia it nhat: \n",
       "           country  beer_servings\n",
       "111        Monaco              0\n",
       "46    North Korea              0\n",
       "40   Cook Islands              0\n",
       "13     Bangladesh              0\n",
       "0     Afghanistan              0\n"
      ]
     },
     "metadata": {},
     "output_type": "display_data"
    }
   ],
   "source": [
    "print(\"5 quoc gia tieu thu bia it nhat: \\n\", arrange[[\"country\",\"beer_servings\"]].tail())"
   ]
  },
  {
   "cell_type": "code",
   "execution_count": null,
   "metadata": {},
   "outputs": [],
   "source": []
  }
 ],
 "metadata": {
  "language_info": {
   "name": "python"
  }
 },
 "nbformat": 4,
 "nbformat_minor": 2
}
