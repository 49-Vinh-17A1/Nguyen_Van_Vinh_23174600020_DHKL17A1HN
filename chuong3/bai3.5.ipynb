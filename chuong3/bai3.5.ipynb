{
 "cells": [
  {
   "cell_type": "code",
   "execution_count": 18,
   "metadata": {},
   "outputs": [],
   "source": [
    "import numpy as np "
   ]
  },
  {
   "cell_type": "markdown",
   "metadata": {},
   "source": [
    "## 1"
   ]
  },
  {
   "cell_type": "code",
   "execution_count": 19,
   "metadata": {},
   "outputs": [
    {
     "data": {
      "text/plain": [
       "array([74., 74., 72., ..., 75., 75., 73.])"
      ]
     },
     "execution_count": 19,
     "metadata": {},
     "output_type": "execute_result"
    }
   ],
   "source": [
    "with open('C:\\\\code\\\\gitpythonnangcao\\\\baitap pỵthon\\\\chuong3\\\\heights_1.txt','r',encoding = 'utf-8-sig') as file:\n",
    "    for i in file:\n",
    "        data = i.replace('[','').replace(']','').split(',')\n",
    "arr_height = np.array(data,dtype = float)\n",
    "arr_height"
   ]
  },
  {
   "cell_type": "code",
   "execution_count": 20,
   "metadata": {},
   "outputs": [
    {
     "data": {
      "text/plain": [
       "dtype('float64')"
      ]
     },
     "execution_count": 20,
     "metadata": {},
     "output_type": "execute_result"
    }
   ],
   "source": [
    "arr_height.dtype"
   ]
  },
  {
   "cell_type": "markdown",
   "metadata": {},
   "source": [
    "## 2"
   ]
  },
  {
   "cell_type": "code",
   "execution_count": 21,
   "metadata": {},
   "outputs": [
    {
     "data": {
      "text/plain": [
       "array([180., 215., 210., ..., 205., 190., 195.])"
      ]
     },
     "execution_count": 21,
     "metadata": {},
     "output_type": "execute_result"
    }
   ],
   "source": [
    "with open('C:\\\\code\\\\gitpythonnangcao\\\\baitap pỵthon\\\\chuong3\\\\weights_1.txt','r',encoding='utf-8-sig') as file:\n",
    "    for i in file:\n",
    "        data = i.replace('[','').replace(']','').split(',')\n",
    "arr_weight = np.array(data,dtype=float)\n",
    "arr_weight"
   ]
  },
  {
   "cell_type": "code",
   "execution_count": 22,
   "metadata": {},
   "outputs": [
    {
     "data": {
      "text/plain": [
       "dtype('float64')"
      ]
     },
     "execution_count": 22,
     "metadata": {},
     "output_type": "execute_result"
    }
   ],
   "source": [
    "arr_weight.dtype"
   ]
  },
  {
   "cell_type": "markdown",
   "metadata": {},
   "source": [
    "## 3"
   ]
  },
  {
   "cell_type": "code",
   "execution_count": 23,
   "metadata": {},
   "outputs": [
    {
     "data": {
      "text/plain": [
       "array([1.8796, 1.8796, 1.8288, 1.8288, 1.8542])"
      ]
     },
     "execution_count": 23,
     "metadata": {},
     "output_type": "execute_result"
    }
   ],
   "source": [
    "# Quy Đổi sang m\n",
    "arr_height_m = arr_height *0.0254\n",
    "arr_height_m[:5]"
   ]
  },
  {
   "cell_type": "markdown",
   "metadata": {},
   "source": [
    "## 4"
   ]
  },
  {
   "cell_type": "code",
   "execution_count": 24,
   "metadata": {},
   "outputs": [
    {
     "data": {
      "text/plain": [
       "array([81.64656 , 97.52228 , 95.25432 , 95.25432 , 85.275296])"
      ]
     },
     "execution_count": 24,
     "metadata": {},
     "output_type": "execute_result"
    }
   ],
   "source": [
    "# Quy đỏi sang kg\n",
    "arr_weight_kg = arr_weight*0.453592\n",
    "arr_weight_kg[:5]"
   ]
  },
  {
   "cell_type": "markdown",
   "metadata": {},
   "source": [
    "## 5"
   ]
  },
  {
   "cell_type": "code",
   "execution_count": 25,
   "metadata": {},
   "outputs": [
    {
     "data": {
      "text/plain": [
       "array([23.11037639, 27.60406069, 28.48080465, 28.48080465, 24.80333518])"
      ]
     },
     "execution_count": 25,
     "metadata": {},
     "output_type": "execute_result"
    }
   ],
   "source": [
    "arr_bmi = arr_weight_kg/(arr_height_m*arr_height_m)\n",
    "arr_bmi[:5]"
   ]
  },
  {
   "cell_type": "markdown",
   "metadata": {},
   "source": [
    "## 6"
   ]
  },
  {
   "cell_type": "code",
   "execution_count": 26,
   "metadata": {},
   "outputs": [
    {
     "data": {
      "text/plain": [
       "np.float64(90.7184)"
      ]
     },
     "execution_count": 26,
     "metadata": {},
     "output_type": "execute_result"
    }
   ],
   "source": [
    "# cân nặng ở index thứ 50\n",
    "arr_weight_kg[50]"
   ]
  },
  {
   "cell_type": "markdown",
   "metadata": {},
   "source": [
    "## 7"
   ]
  },
  {
   "cell_type": "code",
   "execution_count": 27,
   "metadata": {},
   "outputs": [
    {
     "data": {
      "text/plain": [
       "array([1.8542, 1.8796, 1.8288, 1.8542, 1.7526, 1.8288, 1.8542, 1.905 ,\n",
       "       1.905 , 1.8542, 1.8288])"
      ]
     },
     "execution_count": 27,
     "metadata": {},
     "output_type": "execute_result"
    }
   ],
   "source": [
    "arr_height_m_100 = arr_height_m[100:111]\n",
    "arr_height_m_100"
   ]
  },
  {
   "cell_type": "markdown",
   "metadata": {},
   "source": [
    "## 8"
   ]
  },
  {
   "cell_type": "code",
   "execution_count": 28,
   "metadata": {},
   "outputs": [
    {
     "data": {
      "text/plain": [
       "array([20.54255679, 20.54255679, 20.69282047, 20.69282047, 20.34343189,\n",
       "       20.34343189, 20.69282047, 20.15883472, 19.4984471 , 20.69282047,\n",
       "       20.9205219 ])"
      ]
     },
     "execution_count": 28,
     "metadata": {},
     "output_type": "execute_result"
    }
   ],
   "source": [
    "# các cầu thủ có bmi <21\n",
    "bmi_under21 = arr_bmi[arr_bmi<21]\n",
    "bmi_under21"
   ]
  },
  {
   "cell_type": "markdown",
   "metadata": {},
   "source": [
    "## 9"
   ]
  },
  {
   "cell_type": "code",
   "execution_count": 29,
   "metadata": {},
   "outputs": [
    {
     "name": "stdout",
     "output_type": "stream",
     "text": [
      "chiều cao trung bình của các cầu thủ là: 1.8717172413793102 m\n",
      "cân nặng trung bình của các cầu thủ là: 91.33019058916256 kg\n"
     ]
    }
   ],
   "source": [
    "print(\"chiều cao trung bình của các cầu thủ là:\",arr_height_m.mean(),'m')\n",
    "print(\"cân nặng trung bình của các cầu thủ là:\",arr_weight_kg.mean(),'kg')\n"
   ]
  },
  {
   "cell_type": "markdown",
   "metadata": {},
   "source": [
    "## 10"
   ]
  },
  {
   "cell_type": "code",
   "execution_count": 30,
   "metadata": {},
   "outputs": [
    {
     "name": "stdout",
     "output_type": "stream",
     "text": [
      "chiều cao lớn nhất của các cầu thủ là: 2.1082 m\n",
      "cân nặng lớn nhất của các cầu thủ là: 131.54167999999999 kg\n"
     ]
    }
   ],
   "source": [
    "print(\"chiều cao lớn nhất của các cầu thủ là:\",arr_height_m.max(),'m')\n",
    "print(\"cân nặng lớn nhất của các cầu thủ là:\",arr_weight_kg.max(),'kg')\n"
   ]
  },
  {
   "cell_type": "markdown",
   "metadata": {},
   "source": [
    "## 11"
   ]
  },
  {
   "cell_type": "code",
   "execution_count": 31,
   "metadata": {},
   "outputs": [
    {
     "name": "stdout",
     "output_type": "stream",
     "text": [
      "chiều cao nhỏ nhất của các cầu thủ là: 1.7018 m\n",
      "cân nặng nhỏ nhất của các cầu thủ là: 68.0388 kg\n"
     ]
    }
   ],
   "source": [
    "print(\"chiều cao nhỏ nhất của các cầu thủ là:\",arr_height_m.min(),'m')\n",
    "print(\"cân nặng nhỏ nhất của các cầu thủ là:\",arr_weight_kg.min(),'kg')\n"
   ]
  },
  {
   "cell_type": "code",
   "execution_count": null,
   "metadata": {},
   "outputs": [],
   "source": []
  }
 ],
 "metadata": {
  "kernelspec": {
   "display_name": "Python 3",
   "language": "python",
   "name": "python3"
  },
  "language_info": {
   "codemirror_mode": {
    "name": "ipython",
    "version": 3
   },
   "file_extension": ".py",
   "mimetype": "text/x-python",
   "name": "python",
   "nbconvert_exporter": "python",
   "pygments_lexer": "ipython3",
   "version": "3.11.5"
  }
 },
 "nbformat": 4,
 "nbformat_minor": 2
}
