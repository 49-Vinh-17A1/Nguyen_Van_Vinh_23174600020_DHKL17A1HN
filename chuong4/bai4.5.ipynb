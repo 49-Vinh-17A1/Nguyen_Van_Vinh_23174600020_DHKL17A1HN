{
 "cells": [
  {
   "cell_type": "code",
   "execution_count": 2,
   "metadata": {},
   "outputs": [],
   "source": [
    "import pandas as pd \n",
    "import numpy as np"
   ]
  },
  {
   "cell_type": "code",
   "execution_count": 3,
   "metadata": {},
   "outputs": [
    {
     "data": {
      "text/plain": [
       "0     12.629113\n",
       "1     14.178870\n",
       "2     13.736112\n",
       "3      5.242547\n",
       "4     16.347645\n",
       "5     10.869996\n",
       "6      0.208171\n",
       "7     12.224779\n",
       "8     12.589437\n",
       "9     17.884906\n",
       "10     8.133023\n",
       "11    20.057227\n",
       "12    14.845368\n",
       "13     9.323175\n",
       "14     8.816304\n",
       "15     5.542730\n",
       "16    16.660099\n",
       "17     9.709354\n",
       "18    10.985473\n",
       "19     9.799438\n",
       "20    -0.905175\n",
       "21     5.897954\n",
       "22    14.853153\n",
       "23     4.025064\n",
       "24    10.464780\n",
       "dtype: float64"
      ]
     },
     "execution_count": 3,
     "metadata": {},
     "output_type": "execute_result"
    }
   ],
   "source": [
    "ser = pd.Series(np.random.normal(10,5,25))\n",
    "ser"
   ]
  },
  {
   "cell_type": "code",
   "execution_count": 4,
   "metadata": {},
   "outputs": [
    {
     "name": "stdout",
     "output_type": "stream",
     "text": [
      "giá trị tối thiểu là:  -0.9051749233603967\n"
     ]
    }
   ],
   "source": [
    "#1\n",
    "print(\"giá trị tối thiểu là: \",ser.min())"
   ]
  },
  {
   "cell_type": "code",
   "execution_count": 9,
   "metadata": {},
   "outputs": [
    {
     "name": "stdout",
     "output_type": "stream",
     "text": [
      "phàn centile thứ 25:  8.133022740047581\n"
     ]
    }
   ],
   "source": [
    "#2\n",
    "percentile_25 = ser.quantile(0.25)\n",
    "print(\"phàn centile thứ 25: \",percentile_25)"
   ]
  },
  {
   "cell_type": "code",
   "execution_count": 12,
   "metadata": {},
   "outputs": [
    {
     "name": "stdout",
     "output_type": "stream",
     "text": [
      "giá trị trung vị là:  10.869996408071934\n"
     ]
    }
   ],
   "source": [
    "#3\n",
    "print(\"giá trị trung vị là: \",ser.median())"
   ]
  },
  {
   "cell_type": "code",
   "execution_count": 11,
   "metadata": {},
   "outputs": [
    {
     "name": "stdout",
     "output_type": "stream",
     "text": [
      "phần centile thứ 75:  14.178870234577829\n"
     ]
    }
   ],
   "source": [
    "#4\n",
    "percentile_75 = ser.quantile(0.75)\n",
    "print(\"phần centile thứ 75: \",percentile_75)"
   ]
  },
  {
   "cell_type": "code",
   "execution_count": 14,
   "metadata": {},
   "outputs": [
    {
     "name": "stdout",
     "output_type": "stream",
     "text": [
      "giá trị tối đa là:  20.05722702077249\n"
     ]
    }
   ],
   "source": [
    "#5\n",
    "print(\"giá trị tối đa là: \",ser.max())"
   ]
  },
  {
   "cell_type": "code",
   "execution_count": null,
   "metadata": {},
   "outputs": [],
   "source": []
  }
 ],
 "metadata": {
  "kernelspec": {
   "display_name": "Python 3",
   "language": "python",
   "name": "python3"
  },
  "language_info": {
   "codemirror_mode": {
    "name": "ipython",
    "version": 3
   },
   "file_extension": ".py",
   "mimetype": "text/x-python",
   "name": "python",
   "nbconvert_exporter": "python",
   "pygments_lexer": "ipython3",
   "version": "3.11.5"
  }
 },
 "nbformat": 4,
 "nbformat_minor": 2
}
