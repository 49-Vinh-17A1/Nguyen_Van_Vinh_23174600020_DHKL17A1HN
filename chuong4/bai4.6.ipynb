{
 "cells": [
  {
   "cell_type": "code",
   "execution_count": 2,
   "metadata": {},
   "outputs": [],
   "source": [
    "import pandas as pd \n",
    "import numpy as np "
   ]
  },
  {
   "cell_type": "code",
   "execution_count": 8,
   "metadata": {},
   "outputs": [
    {
     "data": {
      "text/plain": [
       "0     d\n",
       "1     b\n",
       "2     g\n",
       "3     e\n",
       "4     e\n",
       "5     g\n",
       "6     c\n",
       "7     g\n",
       "8     g\n",
       "9     c\n",
       "10    b\n",
       "11    c\n",
       "12    g\n",
       "13    h\n",
       "14    g\n",
       "15    c\n",
       "16    d\n",
       "17    c\n",
       "18    a\n",
       "19    f\n",
       "20    f\n",
       "21    g\n",
       "22    d\n",
       "23    b\n",
       "24    d\n",
       "25    e\n",
       "26    b\n",
       "27    b\n",
       "28    f\n",
       "29    c\n",
       "dtype: object"
      ]
     },
     "execution_count": 8,
     "metadata": {},
     "output_type": "execute_result"
    }
   ],
   "source": [
    "ser = pd.Series(np.take(list('abcdefgh'),np.random.randint(8,size =30)))\n",
    "ser"
   ]
  },
  {
   "cell_type": "markdown",
   "metadata": {},
   "source": [
    "### Đoạn code tạo ra một Pandas Series gồm 30 giá trị ký tự ngẫu nhiên, mỗi ký tự được lấy từ danh sách ['a', 'b', 'c', 'd', 'e', 'f', 'g', 'h']"
   ]
  },
  {
   "cell_type": "markdown",
   "metadata": {},
   "source": [
    "# 2"
   ]
  },
  {
   "cell_type": "code",
   "execution_count": 9,
   "metadata": {},
   "outputs": [
    {
     "data": {
      "text/plain": [
       "g    7\n",
       "c    6\n",
       "b    5\n",
       "d    4\n",
       "e    3\n",
       "f    3\n",
       "h    1\n",
       "a    1\n",
       "Name: count, dtype: int64"
      ]
     },
     "execution_count": 9,
     "metadata": {},
     "output_type": "execute_result"
    }
   ],
   "source": [
    "value_counts = ser.value_counts()\n",
    "value_counts"
   ]
  },
  {
   "cell_type": "code",
   "execution_count": null,
   "metadata": {},
   "outputs": [],
   "source": []
  }
 ],
 "metadata": {
  "kernelspec": {
   "display_name": "Python 3",
   "language": "python",
   "name": "python3"
  },
  "language_info": {
   "codemirror_mode": {
    "name": "ipython",
    "version": 3
   },
   "file_extension": ".py",
   "mimetype": "text/x-python",
   "name": "python",
   "nbconvert_exporter": "python",
   "pygments_lexer": "ipython3",
   "version": "3.11.5"
  }
 },
 "nbformat": 4,
 "nbformat_minor": 2
}
