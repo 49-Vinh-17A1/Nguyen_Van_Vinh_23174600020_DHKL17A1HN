{
 "cells": [
  {
   "cell_type": "code",
   "execution_count": 25,
   "metadata": {},
   "outputs": [],
   "source": [
    "import numpy as np\n",
    "import pandas as pd\n"
   ]
  },
  {
   "cell_type": "code",
   "execution_count": 26,
   "metadata": {},
   "outputs": [],
   "source": [
    "ser = pd.Series(np.random.random(20))"
   ]
  },
  {
   "cell_type": "code",
   "execution_count": 27,
   "metadata": {},
   "outputs": [
    {
     "data": {
      "text/plain": [
       "0     0.488336\n",
       "1     0.604846\n",
       "2     0.989519\n",
       "3     0.647463\n",
       "4     0.321865\n",
       "5     0.013473\n",
       "6     0.255933\n",
       "7     0.739862\n",
       "8     0.265648\n",
       "9     0.287296\n",
       "10    0.351544\n",
       "11    0.608354\n",
       "12    0.689235\n",
       "13    0.855569\n",
       "14    0.871090\n",
       "15    0.555044\n",
       "16    0.187062\n",
       "17    0.086734\n",
       "18    0.551845\n",
       "19    0.372706\n",
       "dtype: float64"
      ]
     },
     "execution_count": 27,
     "metadata": {},
     "output_type": "execute_result"
    }
   ],
   "source": [
    "ser"
   ]
  },
  {
   "cell_type": "code",
   "execution_count": 28,
   "metadata": {},
   "outputs": [
    {
     "data": {
      "text/plain": [
       "0       (0.364, 0.52]\n",
       "1       (0.575, 0.62]\n",
       "2       (0.857, 0.99]\n",
       "3       (0.62, 0.699]\n",
       "4      (0.311, 0.364]\n",
       "5     (0.0125, 0.177]\n",
       "6      (0.177, 0.264]\n",
       "7      (0.699, 0.857]\n",
       "8      (0.264, 0.311]\n",
       "9      (0.264, 0.311]\n",
       "10     (0.311, 0.364]\n",
       "11      (0.575, 0.62]\n",
       "12      (0.62, 0.699]\n",
       "13     (0.699, 0.857]\n",
       "14      (0.857, 0.99]\n",
       "15      (0.52, 0.575]\n",
       "16     (0.177, 0.264]\n",
       "17    (0.0125, 0.177]\n",
       "18      (0.52, 0.575]\n",
       "19      (0.364, 0.52]\n",
       "dtype: category\n",
       "Categories (10, interval[float64, right]): [(0.0125, 0.177] < (0.177, 0.264] < (0.264, 0.311] < (0.311, 0.364] ... (0.575, 0.62] < (0.62, 0.699] < (0.699, 0.857] < (0.857, 0.99]]"
      ]
     },
     "execution_count": 28,
     "metadata": {},
     "output_type": "execute_result"
    }
   ],
   "source": [
    "quantiles = pd.qcut(ser, 10)\n",
    "ser_replaced = quantiles.apply(lambda x: f'Quantile {x}')\n",
    "quantiles"
   ]
  },
  {
   "cell_type": "code",
   "execution_count": 29,
   "metadata": {},
   "outputs": [
    {
     "data": {
      "text/plain": [
       "0       Quantile (0.364, 0.52]\n",
       "1       Quantile (0.575, 0.62]\n",
       "2       Quantile (0.857, 0.99]\n",
       "3       Quantile (0.62, 0.699]\n",
       "4      Quantile (0.311, 0.364]\n",
       "5     Quantile (0.0125, 0.177]\n",
       "6      Quantile (0.177, 0.264]\n",
       "7      Quantile (0.699, 0.857]\n",
       "8      Quantile (0.264, 0.311]\n",
       "9      Quantile (0.264, 0.311]\n",
       "10     Quantile (0.311, 0.364]\n",
       "11      Quantile (0.575, 0.62]\n",
       "12      Quantile (0.62, 0.699]\n",
       "13     Quantile (0.699, 0.857]\n",
       "14      Quantile (0.857, 0.99]\n",
       "15      Quantile (0.52, 0.575]\n",
       "16     Quantile (0.177, 0.264]\n",
       "17    Quantile (0.0125, 0.177]\n",
       "18      Quantile (0.52, 0.575]\n",
       "19      Quantile (0.364, 0.52]\n",
       "dtype: category\n",
       "Categories (10, object): ['Quantile (0.0125, 0.177]' < 'Quantile (0.177, 0.264]' < 'Quantile (0.264, 0.311]' < 'Quantile (0.311, 0.364]' ... 'Quantile (0.575, 0.62]' < 'Quantile (0.62, 0.699]' < 'Quantile (0.699, 0.857]' < 'Quantile (0.857, 0.99]']"
      ]
     },
     "execution_count": 29,
     "metadata": {},
     "output_type": "execute_result"
    }
   ],
   "source": [
    "ser_replaced"
   ]
  },
  {
   "cell_type": "code",
   "execution_count": null,
   "metadata": {},
   "outputs": [],
   "source": []
  }
 ],
 "metadata": {
  "kernelspec": {
   "display_name": "Python 3",
   "language": "python",
   "name": "python3"
  },
  "language_info": {
   "codemirror_mode": {
    "name": "ipython",
    "version": 3
   },
   "file_extension": ".py",
   "mimetype": "text/x-python",
   "name": "python",
   "nbconvert_exporter": "python",
   "pygments_lexer": "ipython3",
   "version": "3.11.5"
  }
 },
 "nbformat": 4,
 "nbformat_minor": 2
}
